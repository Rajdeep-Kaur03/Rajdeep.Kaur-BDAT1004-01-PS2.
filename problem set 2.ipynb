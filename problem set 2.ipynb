{
 "cells": [
  {
   "cell_type": "markdown",
   "metadata": {},
   "source": [
    "Question 1\n",
    "Consider the following Python module:\n",
    "\n",
    "a = 0\n",
    "\n",
    "def b():\n",
    "    global a\n",
    "    a = c(a)\n",
    "\n",
    "def c(a):\n",
    "    return a + 2\n",
    "\n",
    "After importing the module into the interpreter, you execute:\n",
    "\n",
    ">>> b()\n",
    ">>> b()\n",
    ">>> b()\n",
    ">>> a\n",
    "?\n",
    "\n",
    "What value is displayed when the last expression (a) is evaluated? Explain your answer by indicating what happens in every executed statement\n"
   ]
  },
  {
   "cell_type": "code",
   "execution_count": 1,
   "metadata": {},
   "outputs": [],
   "source": [
    "a = 0\n",
    "\n",
    "def b():\n",
    "    global a\n",
    "    a = c(a)\n",
    "\n",
    "def c(a):\n",
    "    return a + 2"
   ]
  },
  {
   "cell_type": "code",
   "execution_count": 2,
   "metadata": {},
   "outputs": [],
   "source": [
    "b()"
   ]
  },
  {
   "cell_type": "code",
   "execution_count": 3,
   "metadata": {},
   "outputs": [],
   "source": [
    "b()"
   ]
  },
  {
   "cell_type": "code",
   "execution_count": 4,
   "metadata": {},
   "outputs": [],
   "source": [
    "b()"
   ]
  },
  {
   "cell_type": "code",
   "execution_count": 6,
   "metadata": {},
   "outputs": [
    {
     "data": {
      "text/plain": [
       "6"
      ]
     },
     "execution_count": 6,
     "metadata": {},
     "output_type": "execute_result"
    }
   ],
   "source": [
    "a"
   ]
  },
  {
   "cell_type": "markdown",
   "metadata": {},
   "source": [
    "Question 6\n",
    "Write a recursive method binary() that takes a non-negative integer n and prints the binary representation of integer n.\n",
    "\n",
    ">>> binary(0)\n",
    "0\n",
    ">>> binary(1)\n",
    "1\n",
    ">>> binary(3)\n",
    "11\n",
    ">>> binary(9)\n",
    "1001\n"
   ]
  },
  {
   "cell_type": "code",
   "execution_count": 12,
   "metadata": {},
   "outputs": [
    {
     "name": "stdout",
     "output_type": "stream",
     "text": [
      "enter a number:0\n",
      "0"
     ]
    }
   ],
   "source": [
    "def tobin(x):\n",
    "    strbin=''\n",
    "    if x>1:\n",
    "        tobin(x//2)\n",
    "    print(x%2, end='')\n",
    "    \n",
    "num=int(input('enter a number:'))\n",
    "tobin(num)"
   ]
  },
  {
   "cell_type": "code",
   "execution_count": 13,
   "metadata": {},
   "outputs": [
    {
     "name": "stdout",
     "output_type": "stream",
     "text": [
      "enter a number:1\n",
      "1"
     ]
    }
   ],
   "source": [
    "def tobin(x):\n",
    "    strbin=''\n",
    "    if x>1:\n",
    "        tobin(x//2)\n",
    "    print(x%2, end='')\n",
    "    \n",
    "num=int(input('enter a number:'))\n",
    "tobin(num)"
   ]
  },
  {
   "cell_type": "code",
   "execution_count": 14,
   "metadata": {},
   "outputs": [
    {
     "name": "stdout",
     "output_type": "stream",
     "text": [
      "enter a number:3\n",
      "11"
     ]
    }
   ],
   "source": [
    "def tobin(x):\n",
    "    strbin=''\n",
    "    if x>1:\n",
    "        tobin(x//2)\n",
    "    print(x%2, end='')\n",
    "    \n",
    "num=int(input('enter a number:'))\n",
    "tobin(num)"
   ]
  },
  {
   "cell_type": "code",
   "execution_count": 15,
   "metadata": {},
   "outputs": [
    {
     "name": "stdout",
     "output_type": "stream",
     "text": [
      "enter a number:9\n",
      "1001"
     ]
    }
   ],
   "source": [
    "def tobin(x):\n",
    "    strbin=''\n",
    "    if x>1:\n",
    "        tobin(x//2)\n",
    "    print(x%2, end='')\n",
    "    \n",
    "num=int(input('enter a number:'))\n",
    "tobin(num)"
   ]
  },
  {
   "cell_type": "markdown",
   "metadata": {},
   "source": [
    "Question 5\n",
    "Write function collatz() that takes a positive integer x as input and prints the Collatz sequence starting at x. A Collatz sequence is obtained by repeatedly applying this rule to the previous number x in the sequence:\n",
    "Your function should stop when the sequence gets to number 1. Your implementation must be recursive, without any loops.\n",
    "\n",
    ">>> collatz(1)\n",
    "1\n",
    ">>> collatz(10)\n",
    "10\n",
    "5\n",
    "16\n",
    "8\n",
    "4\n",
    "2\n",
    "1\n",
    "\n",
    "\n"
   ]
  },
  {
   "cell_type": "code",
   "execution_count": 16,
   "metadata": {},
   "outputs": [
    {
     "name": "stdout",
     "output_type": "stream",
     "text": [
      "enter value:1\n",
      "1\n"
     ]
    }
   ],
   "source": [
    "def collatz(t,k=0):\n",
    "    print(t)\n",
    "    if t==1:\n",
    "        return k\n",
    "    k+=1\n",
    "    if t%2==0:\n",
    "        return collatz(t//2,k)\n",
    "    else:\n",
    "        return collatz(t*3+1,k)\n",
    "    \n",
    "n=int(input('enter value:'))\n",
    "i=collatz(n)\n",
    "#print('\\nTotal of ',i,' steps')"
   ]
  },
  {
   "cell_type": "code",
   "execution_count": 17,
   "metadata": {},
   "outputs": [
    {
     "name": "stdout",
     "output_type": "stream",
     "text": [
      "enter value:10\n",
      "10\n",
      "5\n",
      "16\n",
      "8\n",
      "4\n",
      "2\n",
      "1\n"
     ]
    }
   ],
   "source": [
    "def collatz(t,k=0):\n",
    "    print(t)\n",
    "    if t==1:\n",
    "        return k\n",
    "    k+=1\n",
    "    if t%2==0:\n",
    "        return collatz(t//2,k)\n",
    "    else:\n",
    "        return collatz(t*3+1,k)\n",
    "    \n",
    "n=int(input('enter value:'))\n",
    "i=collatz(n)\n",
    "#print('\\nTotal of ',i,' steps')"
   ]
  },
  {
   "cell_type": "markdown",
   "metadata": {},
   "source": [
    "Question 4\n",
    "Implement a new GUI class App that combines user-defined tkinter widget classes Calculator and Mortgage displayed below: (This question can be done using a .py file)\n"
   ]
  },
  {
   "cell_type": "code",
   "execution_count": 18,
   "metadata": {},
   "outputs": [
    {
     "data": {
      "text/plain": [
       "<__main__.LoanCalculator at 0x22a844c35b0>"
      ]
     },
     "execution_count": 18,
     "metadata": {},
     "output_type": "execute_result"
    }
   ],
   "source": [
    "from tkinter import * # Import tkinter\n",
    "    \n",
    "class LoanCalculator:\n",
    "    def _init_(self):\n",
    "        window = Tk() # Create a window\n",
    "        window.title(\"Loan Calculator\") # Set title\n",
    "        \n",
    "        Label(window, text = \"Annual Interest Rate\").grid(row = 1, \n",
    "            column = 1, sticky = W)\n",
    "        Label(window, text = \"Number of Years\").grid(row = 2, \n",
    "            column = 1, sticky = W)\n",
    "        Label(window, text = \"Loan Amount\").grid(row = 3, \n",
    "            column = 1, sticky = W)\n",
    "        Label(window, text = \"Monthly Payment\").grid(row = 4, \n",
    "            column = 1, sticky = W)\n",
    "        Label(window, text = \"Total Payment\").grid(row = 5, \n",
    "            column = 1, sticky = W)\n",
    "        \n",
    "        self.annualInterestRateVar = StringVar()\n",
    "        Entry(window, textvariable = self.annualInterestRateVar, \n",
    "            justify = RIGHT).grid(row = 1, column = 2)\n",
    "        self.numberOfYearsVar = StringVar()\n",
    "        Entry(window, textvariable = self.numberOfYearsVar, \n",
    "            justify = RIGHT).grid(row = 2, column = 2)\n",
    "        self.loanAmountVar = StringVar()\n",
    "        Entry(window, textvariable = self.loanAmountVar, \n",
    "            justify = RIGHT).grid(row = 3, column = 2)\n",
    "        \n",
    "        self.monthlyPaymentVar = StringVar()\n",
    "        lblMonthlyPayment = Label(window, textvariable = \n",
    "            self.monthlyPaymentVar).grid(row = 4, column = 2, \n",
    "                sticky = E)\n",
    "        self.totalPaymentVar = StringVar()\n",
    "        lblTotalPayment = Label(window, textvariable = \n",
    "            self.totalPaymentVar).grid(row = 5, \n",
    "                column = 2, sticky = E)\n",
    "        btComputePayment = Button(window, text = \"Compute Payment\", \n",
    "            command = self.computePayment).grid(\n",
    "                row = 6, column = 2, sticky = E)\n",
    "        \n",
    "        window.mainloop() # Create an event loop\n",
    "\n",
    "    def computePayment(self):\n",
    "        monthlyPayment = self.getMonthlyPayment(\n",
    "            float(self.loanAmountVar.get()), \n",
    "            float(self.annualInterestRateVar.get()) / 1200, \n",
    "            int(self.numberOfYearsVar.get()))\n",
    "        self.monthlyPaymentVar.set(format(monthlyPayment, '10.2f'))\n",
    "        totalPayment = float(self.monthlyPaymentVar.get()) * 12 \\\n",
    "            * int(self.numberOfYearsVar.get())\n",
    "        self.totalPaymentVar.set(format(totalPayment, '10.2f'))\n",
    "        \n",
    "    def getMonthlyPayment(self,\n",
    "            loanAmount, monthlyInterestRate, numberOfYears):\n",
    "        monthlyPayment = loanAmount * monthlyInterestRate / (1\n",
    "           - 1 / (1 + monthlyInterestRate) ** (numberOfYears * 12))\n",
    "        return monthlyPayment;\n",
    "\n",
    "LoanCalculator()  # Create GUI"
   ]
  },
  {
   "cell_type": "code",
   "execution_count": null,
   "metadata": {},
   "outputs": [],
   "source": [
    "Question 10\n",
    ". Suppose list words is defined as follows:\n",
    ">>> words = ['The', 'quick', 'brown', 'fox', 'jumps', 'over', 'the', 'lazy', 'dog']\n",
    "Write list comprehension expressions that use list words and generate the following lists:\n",
    "a)\t['THE', 'QUICK', 'BROWN', 'FOX', 'JUMPS', 'OVER', 'THE', 'LAZY', 'DOG']\n",
    "b)\t['the', 'quick', 'brown', 'fox', 'jumps', 'over', 'the', 'lazy', 'dog']\n",
    "c)\t[3, 5, 5, 3, 5, 4, 3, 4, 3] (the list of lengths of words in list words).\n",
    "d)\t[['THE', 'the', 3], ['QUICK', 'quick', 5], ['BROWN', 'brown', 5], ['FOX', 'fox', 3], ['JUMPS', 'jumps', 5], ['OVER', 'over', 4], ['THE', 'the', 3], ['LAZY', 'lazy', 4], ['DOG', 'dog', 3]] (the list containing a list for every word of list words, where each list contains the word in uppercase and lowercase and the length of the word.)\n",
    "e)\t['The', 'quick', 'brown', 'fox', 'jumps', 'over', 'the', 'lazy', 'dog'] (the list of words in list words containing 4 or more characters.)\n"
   ]
  },
  {
   "cell_type": "code",
   "execution_count": 20,
   "metadata": {},
   "outputs": [
    {
     "data": {
      "text/plain": [
       "['THE', 'QUICK', 'BROWN', 'FOX', 'JUMPS', 'OVER', 'THE', 'LAZY', 'DOG']"
      ]
     },
     "execution_count": 20,
     "metadata": {},
     "output_type": "execute_result"
    }
   ],
   "source": [
    "words = ['The', 'quick', 'brown', 'fox', 'jumps', 'over', 'the', 'lazy', 'dog']\n",
    "words = [element.upper()for element in words];words\n"
   ]
  },
  {
   "cell_type": "code",
   "execution_count": 21,
   "metadata": {},
   "outputs": [
    {
     "data": {
      "text/plain": [
       "['the', 'quick', 'brown', 'fox', 'jumps', 'over', 'the', 'lazy', 'dog']"
      ]
     },
     "execution_count": 21,
     "metadata": {},
     "output_type": "execute_result"
    }
   ],
   "source": [
    "words = ['The', 'quick', 'brown', 'fox', 'jumps', 'over', 'the', 'lazy', 'dog']\n",
    "words = [element.lower()for element in words];words"
   ]
  },
  {
   "cell_type": "markdown",
   "metadata": {},
   "source": [
    "Question 2\n",
    "Function fileLength(), given to you, takes the name of a file as input and returns the length of the file:\n",
    "\n",
    ">>> fileLength('midterm.py')\n",
    "284\n",
    ">>> fileLength('idterm.py')\n",
    "Traceback (most recent call last):\n",
    "  File \"<pyshell#34>\", line 1, in <module>\n",
    "    fileLength('idterm.py')\n",
    "  File \"/Users/me/midterm.py\", line 3, in fileLength\n",
    "    infile = open(filename)\n",
    "FileNotFoundError: [Errno 2] No such file or directory: 'idterm.py'\n",
    "\n",
    "As shown above, if the file cannot be found by the interpreter or if it cannot be read as a text file, an exception will be raised. Modify function fileLength() so that a friendly message is printed instead:\n",
    "\n",
    ">>> fileLength('midterm.py')\n",
    "358\n",
    ">>> fileLength('idterm.py')\n",
    "File idterm.py not found.\n"
   ]
  },
  {
   "cell_type": "code",
   "execution_count": 24,
   "metadata": {},
   "outputs": [
    {
     "ename": "TypeError",
     "evalue": "fileLenght() takes 0 positional arguments but 1 was given",
     "output_type": "error",
     "traceback": [
      "\u001b[1;31m---------------------------------------------------------------------------\u001b[0m",
      "\u001b[1;31mTypeError\u001b[0m                                 Traceback (most recent call last)",
      "\u001b[1;32m<ipython-input-24-f124ff799887>\u001b[0m in \u001b[0;36m<module>\u001b[1;34m\u001b[0m\n\u001b[0;32m      3\u001b[0m     \u001b[0mstatinfo\u001b[0m\u001b[1;33m=\u001b[0m\u001b[0mos\u001b[0m\u001b[1;33m.\u001b[0m\u001b[0mstat\u001b[0m\u001b[1;33m(\u001b[0m\u001b[0mfname\u001b[0m\u001b[1;33m)\u001b[0m\u001b[1;33m\u001b[0m\u001b[1;33m\u001b[0m\u001b[0m\n\u001b[0;32m      4\u001b[0m     \u001b[1;32mreturn\u001b[0m \u001b[0mstatinfo\u001b[0m\u001b[1;33m.\u001b[0m\u001b[0mst_size\u001b[0m\u001b[1;33m\u001b[0m\u001b[1;33m\u001b[0m\u001b[0m\n\u001b[1;32m----> 5\u001b[1;33m \u001b[0mprint\u001b[0m\u001b[1;33m(\u001b[0m\u001b[1;34m\"lenght of file is:\"\u001b[0m \u001b[1;33m,\u001b[0m \u001b[0mfileLenght\u001b[0m\u001b[1;33m(\u001b[0m\u001b[1;34m\"midterm.py\"\u001b[0m\u001b[1;33m)\u001b[0m\u001b[1;33m)\u001b[0m\u001b[1;33m\u001b[0m\u001b[1;33m\u001b[0m\u001b[0m\n\u001b[0m",
      "\u001b[1;31mTypeError\u001b[0m: fileLenght() takes 0 positional arguments but 1 was given"
     ]
    }
   ],
   "source": [
    "def fileLenght():\n",
    "    import os\n",
    "    statinfo=os.stat(fname)\n",
    "    return statinfo.st_size\n",
    "print(\"lenght of file is:\" , fileLenght(\"midterm.py\"))"
   ]
  },
  {
   "cell_type": "code",
   "execution_count": null,
   "metadata": {},
   "outputs": [],
   "source": []
  }
 ],
 "metadata": {
  "kernelspec": {
   "display_name": "Python 3",
   "language": "python",
   "name": "python3"
  },
  "language_info": {
   "codemirror_mode": {
    "name": "ipython",
    "version": 3
   },
   "file_extension": ".py",
   "mimetype": "text/x-python",
   "name": "python",
   "nbconvert_exporter": "python",
   "pygments_lexer": "ipython3",
   "version": "3.8.3"
  }
 },
 "nbformat": 4,
 "nbformat_minor": 4
}
